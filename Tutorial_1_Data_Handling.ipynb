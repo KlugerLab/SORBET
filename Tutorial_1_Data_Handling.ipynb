{
 "cells": [
  {
   "cell_type": "markdown",
   "id": "6b4ee50f-95d5-4e3b-99ea-9e7b426d4235",
   "metadata": {},
   "source": [
    "# Tutorial (Part 1): Data Handling Module\n",
    "This tutorial details the conversion of spatial omics data into a format compatible with SORBET, using the `data_handling` module. The tutorial uses a subset of data from the CosMx Metastatic Melanoma Dataset. It is stored in `data/tutorial/raw_data/`.\n",
    "\n",
    "This tutorial is split intro three steps:\n",
    "1. Load the data into an `OmicsGraph` (`SORBET/data_handling/graph_model.py:9`) object. This is the core class useful for processing and analyzing data. For each tissue sample, the data handling code data requires:\n",
    "    - A list of cells\n",
    "    - A list of cell-cell edges\n",
    "    - An array of cell profiles\n",
    "    - A list of markers (*e.g.,* genes)\n",
    "    - A graph label\n",
    "    - (Optionally) Additional metadata values\n",
    "2. Normalize input graphs using different methods (*e.g.,* log normalize or z-normalization)\n",
    "3. Extract subgraphs from each graph.\n",
    "\n",
    "**n.b.** Subsequent tutorials handle learning appropriate models (`Tutorials_2_Learning.ipynb`) and reasoning over those modules (`Tutorial_3_Reasoning.ipynb`). This module should be run prior to starting those modules."
   ]
  },
  {
   "cell_type": "code",
   "execution_count": 5,
   "id": "a631a740-0cfd-4be1-a8ba-1a89284bdbfd",
   "metadata": {},
   "outputs": [],
   "source": [
    "import os\n",
    "import csv, pickle\n",
    "from tqdm.notebook import tqdm as tqdm\n",
    "from functools import partial\n",
    "import matplotlib.pyplot as plt\n",
    "from sklearn.metrics import roc_auc_score\n",
    "from sklearn.manifold import TSNE, MDS\n",
    "from sklearn.decomposition import PCA\n",
    "\n",
    "import numpy as np\n",
    "import pandas as pd\n",
    "\n",
    "import torch\n",
    "import torch_geometric\n",
    "import ray"
   ]
  },
  {
   "cell_type": "code",
   "execution_count": 2,
   "id": "08f174e3",
   "metadata": {},
   "outputs": [],
   "source": [
    "%load_ext autoreload\n",
    "%autoreload 2"
   ]
  },
  {
   "cell_type": "code",
   "execution_count": 2,
   "id": "f64db41d",
   "metadata": {},
   "outputs": [],
   "source": [
    "import SORBET\n",
    "import SORBET.data_handling as data_handling"
   ]
  },
  {
   "cell_type": "code",
   "execution_count": null,
   "id": "51901d55-15ff-4748-89d3-fb8c70c02e8b",
   "metadata": {},
   "outputs": [],
   "source": [
    "input_data_dirpath = \"data/tutorial/input_data/\" # Subset of Melanoma dataset included with GitHub Repo."
   ]
  },
  {
   "cell_type": "markdown",
   "id": "b4d5994d",
   "metadata": {},
   "source": [
    "## Convert Data to SORBET's Format:\n",
    "\n",
    "First, data is converted from any pre-existing format to a graph-structured format used in SORBET. This is a class, `data_handling.OmicsGraph`, included in `SORBET/data_handling/graph_model`. \n",
    "\n",
    "The function's docstring is:\n",
    "```python\n",
    "class OmicsGraph:\n",
    "    \"\"\"\n",
    "    Base class encoding a spatial graph representation of a profiled sample. \n",
    "    \n",
    "    Facilitates two major graph operations: get_khop_neighborhood and make_subgraph. \n",
    "        get_khop_neighborhood: a function to extract the k-hop neighborhood around a chosen node\n",
    "        make_subgraph: makes a subgraph out of a specified list of nodes\n",
    "\n",
    "    Attributes:\n",
    "        graph: a networkx graph encoding the spatial relationships of cells\n",
    "        node_attributes: a dictionary mapping nodes to marker values\n",
    "        markers: markers profiled in the sample\n",
    "        vertices: list of vertices (or nodes) in the sample.\n",
    "        graph_label: integer encoding the attributed label of the graph\n",
    "        meta_markers: list of markers associated with the cell not used in core inference.\n",
    "            An example would be proteins measured simultaneously with transcriptomics data.\n",
    "        meta_markers_data: dictionary mapping vertices to meta markers (shared order with meta_markers) \n",
    "        node_meta_attributes: parallels the node_attributes structure for the meta_marker subset\n",
    "    \"\"\"\n",
    "\n",
    "    def __init__(self, vertex_lst: list, edge_lst: list, data: np.ndarray, markers: list, graph_label: int, meta_markers: Union[list, dict] = None):\n",
    "        \"\"\"Intializes the OmicsGraph object.\n",
    "\n",
    "        Args:\n",
    "            vertex_lst: list of vertices included in the sample\n",
    "            edge_lst: list of vertex tuples encoding (graph) relationships between vertices \n",
    "            data: NumPy array encoding (vertex_lst) x (markers) data \n",
    "            markers: list of markers measured in the sample\n",
    "            graph_label: integer encoding the relevant value associated with the\n",
    "            meta_markers: list of meta-markers and dictionary of vertex association, as described in the class definition \n",
    "        \"\"\"\n",
    "```\n",
    "(See `SORBET/data_handling/graph_model.py:9-39`)"
   ]
  },
  {
   "cell_type": "code",
   "execution_count": 73,
   "id": "764795a5-9328-4cc0-85c3-37933b892e59",
   "metadata": {},
   "outputs": [],
   "source": [
    "output_data_dirpath= \"data/tutorial/graphs_py/complete/\"\n",
    "if not os.path.exists(output_data_dirpath):\n",
    "    os.makedirs(output_data_dirpath)"
   ]
  },
  {
   "cell_type": "code",
   "execution_count": 74,
   "id": "184e7185",
   "metadata": {},
   "outputs": [
    {
     "name": "stdout",
     "output_type": "stream",
     "text": [
      "Transcriptomics Markers (first 5) ['AATK' 'ABL1' 'ABL2' 'ACE' 'ACE2']\n",
      "Proteomics Markers (first 5) ['Mean.MembraneStain' 'Max.MembraneStain' 'Mean.S100B' 'Max.S100B'\n",
      " 'Mean.CD45']\n",
      "Converting graph run_5612_fov_1 to an OmicsGraph\n",
      "Converting graph run_5612_fov_2 to an OmicsGraph\n",
      "Converting graph run_5612_fov_3 to an OmicsGraph\n",
      "Converting graph run_5612_fov_4 to an OmicsGraph\n",
      "Converting graph run_5612_fov_5 to an OmicsGraph\n",
      "Converting graph run_5612_fov_6 to an OmicsGraph\n",
      "Converting graph run_5612_fov_7 to an OmicsGraph\n",
      "Converting graph run_5612_fov_8 to an OmicsGraph\n",
      "Converting graph run_5612_fov_9 to an OmicsGraph\n",
      "Converting graph run_5612_fov_11 to an OmicsGraph\n"
     ]
    }
   ],
   "source": [
    "# The CosMx data includes both transcriptomic and proteomic measurements. The proteomics data is treated as metadata\n",
    "# It includes the S100B marker, which we will use to identify subgraphs.\n",
    "cell_profile_data = pd.read_csv(os.path.join(input_data_dirpath, \"cell_profiles.csv\"))\n",
    "cell_profile_metadata = pd.read_csv(os.path.join(input_data_dirpath, \"cell_metadata_profiles.csv\")) \n",
    "\n",
    "transcriptomic_marker_list = np.array(cell_profile_data.columns[2:])\n",
    "print(\"Transcriptomics Markers (first 5)\", transcriptomic_marker_list[:5])\n",
    "proteomic_markers_list = np.array(cell_profile_metadata.columns[2:])\n",
    "print(\"Proteomics Markers (first 5)\", proteomic_markers_list[:5])\n",
    "\n",
    "graph_edges_data = pd.read_csv(os.path.join(input_data_dirpath, \"graph_edges.csv\"))\n",
    "graph_labels_data = pd.read_csv(os.path.join(input_data_dirpath, \"graph_labels.csv\"))\n",
    "\n",
    "graph_paths_list = list()\n",
    "for graph_id, graph_label in graph_labels_data.values:\n",
    "    print(f'Converting graph {graph_id} to an OmicsGraph')\n",
    "    # Extract cell data and metadata for the graph:\n",
    "    _cell_data = cell_profile_data[cell_profile_data[\"Graph_ID\"] == graph_id][transcriptomic_marker_list].to_numpy()\n",
    "    _cell_metadata = cell_profile_metadata[cell_profile_data[\"Graph_ID\"] == graph_id][proteomic_markers_list].to_numpy()\n",
    "    _cell_list = cell_profile_data[cell_profile_data[\"Graph_ID\"] == graph_id][\"Cell_ID\"].tolist()\n",
    "\n",
    "    # Check that the metadata and data share the same order:\n",
    "    _data_order = cell_profile_data[cell_profile_data[\"Graph_ID\"] == graph_id][\"Cell_ID\"]\n",
    "    _metadata_order = cell_profile_metadata[cell_profile_metadata[\"Graph_ID\"] == graph_id][\"Cell_ID\"]\n",
    "    assert np.all(_data_order == _metadata_order)\n",
    "    \n",
    "    # Extract the edges in the graph:\n",
    "    _graph_edges = graph_edges_data[graph_edges_data[\"Graph_ID\"] == graph_id][[\"Cell_ID_1\", \"Cell_ID_2\"]].to_numpy().tolist()\n",
    "\n",
    "    # Create an OmicsGraph Object:\n",
    "    omics_graph = data_handling.OmicsGraph(\n",
    "        _cell_list,                                 # List of cell ID's.\n",
    "        _graph_edges,                               # List of edges between vertices (corresponding with indexing in _cell_list).\n",
    "        _cell_data,                                 # Profiles for each cell.\n",
    "        transcriptomic_marker_list,                 # List of marker names.\n",
    "        graph_label,                                # Binary label. Integer in {0,1}\n",
    "        (proteomic_markers_list, _cell_metadata)    # Metadata. Passed as tuple of marker names and marker values\n",
    "    )\n",
    "\n",
    "    # Dump complete graph to a chosen output location.\n",
    "    output_fpath = os.path.join(output_data_dirpath, f'{graph_id}.p')\n",
    "    data_handling.dump_omicsgraph(omics_graph, output_fpath)\n",
    "    \n",
    "    \n",
    "    label_meaning = \"Responder\" if graph_label == 1 else \"Non-responder\" # Dataset specific; not necessary\n",
    "    graph_paths_list.append((graph_id, graph_label, label_meaning, output_fpath))    \n",
    "\n",
    "labels_fpath = \"data/tutorial/labels.csv\"\n",
    "with open(labels_fpath, 'w+') as f:\n",
    "    writer = csv.writer(f, delimiter=',')\n",
    "    writer.writerow([\"Graph ID\", \"Label\", \"Label Meaning\", \"Complete Graph\"])\n",
    "    writer.writerows(graph_paths_list)"
   ]
  },
  {
   "cell_type": "markdown",
   "id": "e69da155-da78-44b5-913a-bf97a40a531f",
   "metadata": {},
   "source": [
    "## Normalize Datasets:\n",
    "\n",
    "Next, we normalize the input data. There are multiple different options for modifying the data. Here, we will illustrate one of the normalization calls.\n",
    "\n",
    "The methods for normalizing `OmicsGraph` objects are included in `SORBET/data_handling/normalize.py`. The two methods either normalize graphs individually (`data_handling.normalize_graph`) or across the entire dataset (`data_handling.normalize_dataset`; *e.g.,* PCA on all graphs). *Note*, there are multiple potential options for normalizing datasets.\n",
    "\n",
    "**n.b.** Graphs are modified in place.\n",
    "\n",
    "```Python\n",
    "def normalize_graph(tissue_graph: OmicsGraph, normalize_method: str, normalize_args: dict = dict()) -> None:\n",
    "    \"\"\"Normalize a single sample. OmicsGraph objects are modified in place. \n",
    "\n",
    "    Shallow wrapper around _normalize_[x] methods. Multiple normalization methods included including: \n",
    "        'total_count': _normalize_by_total_count\n",
    "        'log_normalize': _normalize_by_log,\n",
    "        'pca': _normalize_by_pca,\n",
    "        'z-normalize': _normalize_by_variance,\n",
    "        'to-range': _normalize_to_range\n",
    "\n",
    "    Additional args may be passed in the normalize_args dictionary. See specific functions for options.\n",
    "    \n",
    "    Args:\n",
    "        tissue_graph: an OmicsGraph object to normalize\n",
    "        normalize_method: the chosen method to normalize a graph\n",
    "        normalize_args: dictionary including additional arguments, specific to each method.\n",
    "\n",
    "    \"\"\"\n",
    "```\n",
    "(See `SORBET/data_handling/normalize.py:13-30`)"
   ]
  },
  {
   "cell_type": "code",
   "execution_count": 75,
   "id": "566728a6-fa1b-477e-953c-c0a825243f2f",
   "metadata": {},
   "outputs": [],
   "source": [
    "output_data_dirpath= \"data/tutorial/graphs_py/complete/\"\n",
    "lognormalized_data_dirpath = \"data/tutorial/graphs_py/lognormalized/\"\n",
    "znormalized_data_dirpath = \"data/tutorial/graphs_py/znormalized/\"\n",
    "\n",
    "for dirpath in [lognormalized_data_dirpath, znormalized_data_dirpath]:\n",
    "    if not os.path.exists(dirpath): os.makedirs(dirpath)"
   ]
  },
  {
   "cell_type": "code",
   "execution_count": 76,
   "id": "ec8f3eb1",
   "metadata": {},
   "outputs": [],
   "source": [
    "log_graphs, fnames = list(), list()\n",
    "for ifile in os.listdir(output_data_dirpath):\n",
    "    igraph_fpath = os.path.join(output_data_dirpath, ifile)\n",
    "\n",
    "    # Load OmicsGraph object\n",
    "    omics_graph = data_handling.load_omicsgraph(igraph_fpath)\n",
    "    \n",
    "    # Graphs are modified in-place:\n",
    "    data_handling.normalize_graph(omics_graph, \"log_normalize\") # Normalized in-place\n",
    "    data_handling.dump_omicsgraph(omics_graph, os.path.join(lognormalized_data_dirpath, ifile))\n",
    "\n",
    "    # Append to the log graphs\n",
    "    log_graphs.append(omics_graph)\n",
    "    fnames.append(ifile)\n",
    "\n",
    "data_handling.normalize_dataset(log_graphs, \"z-normalize\") # List normalized in-place\n",
    "for fname, graph in zip(fnames, log_graphs):\n",
    "    data_handling.dump_omicsgraph(graph, os.path.join(znormalized_data_dirpath, fname))"
   ]
  },
  {
   "cell_type": "markdown",
   "id": "31420bcd-f6fa-4c09-b438-d82e8f773475",
   "metadata": {},
   "source": [
    "## Subgraph Extraction Algorithm:\n",
    "\n",
    "Next, we extract subgraphs from each of the graphs. This method should typically be accessed using `data_handling.create_subgraphs` in `data_handling/preprocess.py:43`. This code wraps `data_handling.subgraph_extraction` in `data_handling/subgraph_extraction.py`. \n",
    "\n",
    "```Python\n",
    "def subgraph_extraction(tissue_graph: OmicsGraph, extraction_method: str, extraction_args: dict = dict()) -> List[OmicsGraph]:\n",
    "    \"\"\"Implements a basic interface to access different subgraph extraction methods (below)\n",
    "    \n",
    "    ...\n",
    "    \n",
    "    Args:\n",
    "        tissue_graph: OmicsGraph object, which the subgraph extraction algorithm will be applied on\n",
    "        extraction_method: chosen method. Options defined above.\n",
    "        extraction_args: dictionary with additional arguments passed to the subgraph extraction algorithm\n",
    "    \n",
    "    Returns:\n",
    "        A list of OmicsGraph objects representing the extracted subgraphs. \n",
    "    \"\"\"\n",
    "```\n",
    "(See `SORBET/data_handling/subgraph_extraction.py:8-25`)\n",
    "\n",
    "The final step is to convert the OmicsGraph objects into a torch subgraphs for ease of use with learning."
   ]
  },
  {
   "cell_type": "code",
   "execution_count": 77,
   "id": "c39e005c",
   "metadata": {},
   "outputs": [
    {
     "name": "stderr",
     "output_type": "stream",
     "text": [
      "/usr/local/lib/python3.10/site-packages/numpy/core/fromnumeric.py:3504: RuntimeWarning: Mean of empty slice.\n",
      "  return _methods._mean(a, axis=axis, dtype=dtype,\n",
      "/usr/local/lib/python3.10/site-packages/numpy/core/_methods.py:129: RuntimeWarning: invalid value encountered in scalar divide\n",
      "  ret = ret.dtype.type(ret / rcount)\n"
     ]
    }
   ],
   "source": [
    "K = 10 # Neighborhood size\n",
    "MS = 50 # Minimum size\n",
    "anchor_marker =  \"Mean.S100B\"\n",
    "\n",
    "input_data_dir = \"data/tutorial/graphs_py/znormalized/\"\n",
    "output_data_dir = \"data/tutorial/processed_subgraphs/znormalized/\"\n",
    "if not os.path.exists(output_data_dir): os.makedirs(output_data_dir)\n",
    "\n",
    "# Can change complete_graphs_dirpath to different normalization techniques\n",
    "data_handling.create_subgraphs(input_data_dir, output_data_dir,                     # Input and output directories.\n",
    "                               \"microenvironment\",                                  # Extraction algorithm. Multiple options. \n",
    "                               {\"marker\": anchor_marker, \"k\": K, \"minimum_size\":MS} # Additional arguments passed to the extraction algorithm\n",
    "                              )"
   ]
  },
  {
   "cell_type": "code",
   "execution_count": null,
   "id": "f450590c-e0c4-4d58-91a2-e495005636ce",
   "metadata": {},
   "outputs": [],
   "source": [
    "# Convert the OmicsGraph data objects to torch subgraphs\n",
    "data_handling.create_torch_subgraphs(output_data_dir) "
   ]
  }
 ],
 "metadata": {
  "kernelspec": {
   "display_name": "Python 3 (ipykernel)",
   "language": "python",
   "name": "python3"
  },
  "language_info": {
   "codemirror_mode": {
    "name": "ipython",
    "version": 3
   },
   "file_extension": ".py",
   "mimetype": "text/x-python",
   "name": "python",
   "nbconvert_exporter": "python",
   "pygments_lexer": "ipython3",
   "version": "3.10.16"
  }
 },
 "nbformat": 4,
 "nbformat_minor": 5
}
